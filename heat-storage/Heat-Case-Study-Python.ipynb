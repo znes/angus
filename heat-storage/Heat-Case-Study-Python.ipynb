{
 "cells": [
  {
   "cell_type": "markdown",
   "metadata": {},
   "source": [
    "# Heat Case Study - Energy System Model"
   ]
  },
  {
   "cell_type": "code",
   "execution_count": null,
   "metadata": {},
   "outputs": [],
   "source": [
    "import os\n",
    "\n",
    "import pandas as pd\n",
    "\n",
    "import oemof.tabular.facades as fc\n",
    "from oemof.solph import EnergySystem, Model, Bus\n",
    "from oemof.tabular.tools import postprocessing as pp\n",
    "\n",
    "results_path = \"results\"\n",
    "if not os.path.exists(results_path): \n",
    "    os.mkdir(results_path)"
   ]
  },
  {
   "cell_type": "code",
   "execution_count": null,
   "metadata": {},
   "outputs": [],
   "source": [
    "timeseries = pd.read_csv(\"data/timeseries.csv\", parse_dates=True, index_col=0)\n",
    "\n",
    "heat_load_max = timeseries[\"heat_load\"].max() \n",
    "\n",
    "timeseries.index.freq = \"H\""
   ]
  },
  {
   "cell_type": "code",
   "execution_count": null,
   "metadata": {},
   "outputs": [],
   "source": [
    "es = EnergySystem(timeindex=timeseries.index)"
   ]
  },
  {
   "cell_type": "markdown",
   "metadata": {},
   "source": [
    "## Add Components to energy system"
   ]
  },
  {
   "cell_type": "markdown",
   "metadata": {},
   "source": [
    "### Bus Constraint\n",
    "\n",
    "With the set of all Buses $B$ all inputs $x^{flow}_{i(b),b}$ to a bus $b$ must equal all its outputs $x^{flow}_{b,o(b)}$\n",
    "\n",
    "$$\\sum_i x^{flow}_{i(b), b}(t) - \\sum_o x^{flow}_{b, o(b)}(t) = 0 \\qquad \\forall t \\in T, \\forall b \\in B$$\n",
    "\n",
    "This equation will be build once the complete energy system is setup with its component. Every time a `Component` is created, the connected bus inputs/outputs will be updated. By this update every bus has all required information of its inputs and outputs available to construct the constraints. \n"
   ]
  },
  {
   "cell_type": "code",
   "execution_count": null,
   "metadata": {},
   "outputs": [],
   "source": [
    "elec_bus = Bus(label=\"elec_bus\")\n",
    "heat_bus = Bus(label=\"heat_bus\")\n",
    "gas_bus = Bus(label=\"gas_bus\")\n",
    "\n",
    "es.add(elec_bus, heat_bus, gas_bus)\n",
    "\n"
   ]
  },
  {
   "cell_type": "markdown",
   "metadata": {},
   "source": [
    "### Commodity\n",
    "\n",
    "The commodity object will bound the flow from a source to a bus by a certain `amount` by the following equation:\n",
    "\n",
    "$$ \\sum_{t} x^{flow}(t) \\leq c^{amount} \\qquad for t \\in T$$\n",
    "\n"
   ]
  },
  {
   "cell_type": "code",
   "execution_count": null,
   "metadata": {},
   "outputs": [],
   "source": [
    "es.add(\n",
    "    fc.Commodity(\n",
    "        label=\"gas-commdity\",\n",
    "        bus=gas_bus,\n",
    "        amount=10e10,\n",
    "        carrier=\"gas\",\n",
    "        tech=\"commodity\",\n",
    "        marginal_cost=25,\n",
    "    )\n",
    ")"
   ]
  },
  {
   "cell_type": "markdown",
   "metadata": {},
   "source": [
    "### Extraction Turbine Unit\n",
    "\n",
    "The mathematical description is derived from the oemof base class\n",
    "[ExtractionTurbineCHP](https://oemof.readthedocs.io/en/\n",
    "stable/oemof_solph.html#extractionturbinechp-component>):\n",
    "\n",
    "$$x^{flow, carrier}(t) =\n",
    "    \\frac{x^{flow, electricity}(t) + x^{flow, heat}(t) \\\n",
    "    \\cdot c^{beta}(t)}{c^{condensing\\_efficiency}(t)}\n",
    "    \\qquad \\forall t \\in T$$\n",
    "\n",
    "$$\n",
    "    x^{flow, electricity}(t)  \\geq  x^{flow, thermal}(t) \\cdot\n",
    "    \\frac{c^{electrical\\_efficiency}(t)}{c^{thermal\\_efficiency}(t)}\n",
    "    \\qquad \\forall t \\in T$$\n",
    "\n",
    "where $c^{beta}$ is defined as:\n",
    "\n",
    "$$\n",
    "    c^{beta}(t) = \\frac{c^{condensing\\_efficiency}(t) -\n",
    "    c^{electrical\\_efficiency(t)}}{c^{thermal\\_efficiency}(t)}\n",
    "    \\qquad \\forall t \\in T$$\n",
    "\n",
    "**Ojective expression** for operation includes marginal cost and/or\n",
    "carrier costs:\n",
    "\n",
    "$$\n",
    "        x^{opex} = \\sum_t (x^{flow, out}(t) \\cdot c^{marginal\\_cost}(t)\n",
    "        + x^{flow, carrier}(t) \\cdot c^{carrier\\_cost}(t))\n",
    "$$\n"
   ]
  },
  {
   "cell_type": "code",
   "execution_count": null,
   "metadata": {},
   "outputs": [],
   "source": [
    "\n",
    "\n",
    "es.add(\n",
    "    fc.ExtractionTurbine(\n",
    "        label=\"extraction-turbine\",\n",
    "        electricity_bus=elec_bus,\n",
    "        heat_bus=heat_bus,\n",
    "        fuel_bus=gas_bus,\n",
    "        carrier=\"gas\",\n",
    "        tech=\"ext\",\n",
    "        capacity=heat_load_max * 0.2,\n",
    "        condensing_efficiency=0.55,\n",
    "        electric_efficiency=0.4,\n",
    "        thermal_efficiency=0.3\n",
    "    )\n",
    ")\n",
    "\n",
    "\n",
    "\n"
   ]
  },
  {
   "cell_type": "markdown",
   "metadata": {},
   "source": [
    "### Backpressur Units / Motoric CHP \n",
    "\n",
    "Backpressure turbine power plants are modelled with a constant relation\n",
    "between heat and electrical output (power to heat coefficient).\n",
    "\n",
    "$$ x^{flow, carrier}(t) =\n",
    "    \\frac{x^{flow, electricity}(t) + x^{flow, heat}(t)}\\\n",
    "    {c^{thermal\\:efficiency}(t) + c^{electrical\\:efficiency}(t)}\n",
    "    \\qquad \\forall t \\in T $$\n",
    "\n",
    "\n",
    "$$    \\frac{x^{flow, electricity}(t)}{x_{flow, thermal}(t)} =\n",
    "    \\frac{c^{electrical\\:efficiency}(t)}{c^{thermal\\:efficiency}(t)}\n",
    "    \\qquad \\forall t \\in T $$\n",
    "\n",
    "**Ojective expression** for operation includes marginal cost and/or\n",
    "carrier costs:\n",
    "\n",
    "$$        x^{opex} = \\sum_t (x^{flow, out}(t) \\cdot c^{marginal\\_cost}(t)\n",
    "        + x^{flow, carrier}(t) \\cdot c^{carrier\\_cost}(t))$$"
   ]
  },
  {
   "cell_type": "code",
   "execution_count": null,
   "metadata": {},
   "outputs": [],
   "source": [
    "es.add(\n",
    "    fc.BackpressureTurbine(\n",
    "        label=\"motoric-chp\",\n",
    "        electricity_bus=elec_bus,\n",
    "        heat_bus=heat_bus,\n",
    "        fuel_bus=gas_bus,\n",
    "        carrier=\"gas\",\n",
    "        tech=\"bp\",\n",
    "        capacity=heat_load_max * 0.2,\n",
    "        electric_efficiency=0.4,\n",
    "        thermal_efficiency=0.4\n",
    "    )\n",
    ")\n"
   ]
  },
  {
   "cell_type": "markdown",
   "metadata": {},
   "source": [
    "### Heat Load\n",
    "\n",
    "For the set of all Load denoted with $l \\in L$ the load $x_l$ at timestep t equals the exogenously defined  profile value $c^{profile}_l$ multiplied by the amount of this load $c^{amount}_l$\n",
    "\n",
    "$$ x^{flow}_{l}(t) = c^{profile}_{l}(t) \\cdot c^{amount}_{l} \\qquad \\forall t \\in T, \\forall l \\in L$$"
   ]
  },
  {
   "cell_type": "code",
   "execution_count": null,
   "metadata": {},
   "outputs": [],
   "source": [
    "\n",
    "es.add(\n",
    "    fc.Load(\n",
    "        label=\"heat-load\",\n",
    "        bus=heat_bus,\n",
    "        amount=1145.1273e3,\n",
    "        profile=timeseries[\"heat_load_profile\"]))\n",
    "\n",
    "es.add(\n",
    "    fc.Excess(\n",
    "        label=\"grid\",\n",
    "        bus=elec_bus,\n",
    "        marginal_cost=-1 * timeseries[\"electricity_price\"].values))"
   ]
  },
  {
   "cell_type": "markdown",
   "metadata": {},
   "source": [
    "### Storage\n",
    "\n",
    "The mathematical representation of the storage for all storages $s \\in S$ will include the flow into the storage, out of the storage and a storage level. The defaul efficiency for input/output is 1. Note that this is is included during charge and discharge. If you want to set the round trip efficiency you need to do for example: $\\eta = \\sqrt{\\eta^{roundtrip}}$\n",
    "\n",
    "Intertemporal energy balance of the storage:\n",
    "\n",
    "$$ x^{level}_{s}(t) = \\eta^{loss} x^{level}_{s}(t) + \\eta x^{flow}_{s, in} - \\eta x^{flow}_{s, out}(t) \\qquad \\forall t \\in T,  \\forall s \\in S$$ \n",
    "\n",
    "Bounds of the storage level variable $x^{level}_s(t)$:\n",
    "\n",
    "$$ x^{level}_s(t) \\leq c_s^{max,level} \\qquad \\forall t \\in T,  \\forall s \\in S$$\n",
    "\n",
    "\n",
    "$$ x^{level}_s(1) = x_s^{level}(t_{e}) = 0.5 \\cdot c_s^{max,level} \\qquad \\forall t \\in T,  \\forall s \\in S$$ \n",
    "\n",
    "Of course, in addition the inflow/outflow of the storage also needs to be within the limit of the minimum and maximum power. \n",
    "\n",
    "$$ -c_s^{capacity} \\leq x^{flow}_s(t) \\leq c_s^{capacity} \\qquad \\forall t \\in T, \\forall s \\in S$$ \n"
   ]
  },
  {
   "cell_type": "code",
   "execution_count": null,
   "metadata": {},
   "outputs": [],
   "source": [
    "es.add(\n",
    "    fc.Storage(\n",
    "        label=\"heat-storage\",\n",
    "        bus=heat_bus,\n",
    "        carrier=\"water\",\n",
    "        tech=\"tank\",\n",
    "        capacity=heat_load_max * 4 * 0.1,\n",
    "        storage_capacity=heat_load_max * 4,\n",
    "        balanced=True, # oemof.solph argument\n",
    "        initial_storage_level=0.5, # oemof.solph argument\n",
    "        max_storage_level=1, # oemof.solph argument\n",
    "    )\n",
    ")"
   ]
  },
  {
   "cell_type": "markdown",
   "metadata": {},
   "source": [
    "### Add heat pump and electro boiler \n",
    "\n",
    "To model the heat pump as well as the boiler, a conversion unit is used. This object will take from a bus and feed into another and is represented by the following mathematical equation: \n",
    "\n",
    "$$x^{flow}_{c, to}(t) = c^{efficiencty}_{c} \\cdot x^{flow}_{c, from}(t), \\qquad \\forall c  \\in C, \\forall t \\in T$$ \n",
    "\n",
    "The `capacity` refers to the output of the conversion unit. Thus, to the thermal capacity of the heat pump / boiler. Therefore the flow from the heat pump to the heating system is bounded by the thermal capacity of the repective unit:\n",
    "\n",
    "$$x^{flow}_{c, to}(t) \\leq c^{capacity}_{c, to}(t) \\qquad \\forall c  \\in C, \\forall t \\in T$$\n",
    "\n"
   ]
  },
  {
   "cell_type": "code",
   "execution_count": null,
   "metadata": {},
   "outputs": [],
   "source": [
    "es.add(\n",
    "    fc.Conversion(\n",
    "        label=\"heat-pump\",\n",
    "        from_bus=elec_bus,\n",
    "        to_bus=heat_bus,\n",
    "        carrier=\"electricity\",\n",
    "        tech=\"hp\",\n",
    "        capacity=heat_load_max * 0.5,\n",
    "        efficiency=3\n",
    "    )\n",
    ")\n",
    "\n",
    "es.add(\n",
    "    fc.Conversion(\n",
    "        label=\"electro-boiler\",\n",
    "        from_bus=elec_bus,\n",
    "        to_bus=heat_bus,\n",
    "        carrier=\"electricity\",\n",
    "        tech=\"p2h\",\n",
    "        capacity=heat_load_max * 0.3,\n",
    "        efficiency=0.95\n",
    "    )\n",
    ")"
   ]
  },
  {
   "cell_type": "markdown",
   "metadata": {},
   "source": [
    "### Objective Function \n",
    "\n",
    "The objective function is created from all instantiated objects. It will use all operating costs (i.e. `marginal_cost` argument) and if set all investment costs (i.e. `capacity_cost` argument)\n",
    "\n",
    "$$ \\text{min:} \\sum_g \\sum_t \\overbrace{c^{marginal\\_cost}_g \\cdot x^{flow}_{g}(t)}^{\\text{operating cost}} \\\\ \n",
    "\\sum_g \\sum_t \\overbrace{c^{capacity\\_cost}_g \\cdot x^{capacity}_{g}(t)}^{\\text{investment cost}} $$\n",
    "\n",
    "**Note**: In this model the selling of electricity to the market is represented through negativ marginal cost of the excess component."
   ]
  },
  {
   "cell_type": "code",
   "execution_count": null,
   "metadata": {},
   "outputs": [],
   "source": [
    "m = Model(es)\n",
    "\n",
    "# m.write(io_options={'symbolic_solver_labels': True})"
   ]
  },
  {
   "cell_type": "code",
   "execution_count": null,
   "metadata": {},
   "outputs": [],
   "source": [
    "m.solve(solver=\"cbc\")\n",
    "\n",
    "m.results = m.results()\n"
   ]
  },
  {
   "cell_type": "code",
   "execution_count": null,
   "metadata": {},
   "outputs": [],
   "source": [
    "pp.write_results(m, results_path)"
   ]
  }
 ],
 "metadata": {
  "@webio": {
   "lastCommId": null,
   "lastKernelId": null
  },
  "kernelspec": {
   "display_name": "angus-env",
   "language": "python",
   "name": "angus-env"
  },
  "language_info": {
   "codemirror_mode": {
    "name": "ipython",
    "version": 3
   },
   "file_extension": ".py",
   "mimetype": "text/x-python",
   "name": "python",
   "nbconvert_exporter": "python",
   "pygments_lexer": "ipython3",
   "version": "3.6.7"
  }
 },
 "nbformat": 4,
 "nbformat_minor": 2
}
