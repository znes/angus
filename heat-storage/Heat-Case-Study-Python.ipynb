{
 "cells": [
  {
   "cell_type": "markdown",
   "metadata": {},
   "source": [
    "# Heat Case Study - Energy System Model"
   ]
  },
  {
   "cell_type": "code",
   "execution_count": null,
   "metadata": {},
   "outputs": [],
   "source": [
    "import os\n",
    "\n",
    "import pandas as pd\n",
    "from datapackage import Package \n",
    "\n",
    "import oemof.tabular.facades as fc\n",
    "from oemof.solph import EnergySystem, Model, Bus, Flow, Transformer\n",
    "from oemof.solph.components import GenericStorage\n",
    "from oemof.tabular.tools import postprocessing as pp\n",
    "\n",
    "\n",
    "results_path = \"results\"\n",
    "\n",
    "if not os.path.exists(results_path): \n",
    "    os.mkdir(results_path)\n",
    "    \n",
    "scenario_path = os.path.join(results_path, \"base\")\n",
    "\n",
    "if not os.path.exists(scenario_path): \n",
    "    os.mkdir(scenario_path)"
   ]
  },
  {
   "cell_type": "code",
   "execution_count": null,
   "metadata": {},
   "outputs": [],
   "source": [
    "timeseries = pd.read_csv(\"data/timeseries.csv\", parse_dates=True, index_col=0)\n",
    "\n",
    "data = pd.DataFrame(Package(\"data/heating-system/datapackage.json\").\n",
    "                    get_resource(\"heating-system\").\n",
    "                    read(keyed=True)).set_index([\"plant\", \"parameter\", \"unit\"])\n",
    "\n",
    "\n",
    "timeseries.index.freq = \"H\""
   ]
  },
  {
   "cell_type": "code",
   "execution_count": null,
   "metadata": {},
   "outputs": [],
   "source": [
    "data.unstack(['plant']).fillna('-')"
   ]
  },
  {
   "cell_type": "markdown",
   "metadata": {},
   "source": [
    "## Create energy system"
   ]
  },
  {
   "cell_type": "code",
   "execution_count": null,
   "metadata": {},
   "outputs": [],
   "source": [
    "es = EnergySystem(timeindex=timeseries.index)"
   ]
  },
  {
   "cell_type": "markdown",
   "metadata": {},
   "source": [
    "## Add Components to energy system"
   ]
  },
  {
   "cell_type": "markdown",
   "metadata": {},
   "source": [
    "### Bus Constraint\n",
    "\n",
    "With the set of all Buses $B$ all inputs $x^{flow}_{i(b),b}$ to a bus $b$ must equal all its outputs $x^{flow}_{b,o(b)}$\n",
    "\n",
    "$$\\sum_i x^{flow}_{i(b), b}(t) - \\sum_o x^{flow}_{b, o(b)}(t) = 0 \\qquad \\forall t \\in T, \\forall b \\in B$$\n",
    "\n",
    "Every time a `Component` is created, the connected bus inputs /outputs will be updated. By this update every bus has all required information of its inputs and outputs available to construct the constraints. The equations will be build by running `Model(es)` once the complete energy system is setup with its components.\n",
    "\n",
    "For the case study four buses will be modeled: \n",
    "\n",
    "1. *Electricity Bus* which represents the electricty grid\n",
    "2. *Heat Bus* which represents the district heating system (grid)\n",
    "3. *Heat Bus Low* which is used to model the low temperature heat that comes from the storage \n",
    "4. *Gas Bus* for the commodity used by fossil fuel based components"
   ]
  },
  {
   "cell_type": "code",
   "execution_count": null,
   "metadata": {},
   "outputs": [],
   "source": [
    "elec_bus = Bus(label=\"elec_bus\")\n",
    "heat_bus = Bus(label=\"heat-bus\")\n",
    "heat_bus_low = Bus(label=\"heat-bus-low\")\n",
    "gas_bus = Bus(label=\"gas-bus\")\n",
    "\n",
    "es.add(elec_bus, heat_bus, gas_bus, heat_bus_low)"
   ]
  },
  {
   "cell_type": "markdown",
   "metadata": {},
   "source": [
    "### Heat Load\n",
    "\n",
    "For the set of all Load denoted with $l \\in L$ the load $x_l$ at timestep t equals the exogenously defined  profile value $c^{profile}_l$ multiplied by the amount of this load $c^{amount}_l$\n",
    "\n",
    "$$ x^{flow}_{l}(t) = c^{profile}_{l}(t) \\cdot c^{amount}_{l} \\qquad \\forall t \\in T, \\forall l \\in L$$\n",
    "\n"
   ]
  },
  {
   "cell_type": "code",
   "execution_count": null,
   "metadata": {},
   "outputs": [],
   "source": [
    "es.add(\n",
    "    fc.Load(\n",
    "        label=\"heat-load\",\n",
    "        bus=heat_bus,\n",
    "        amount=1145.1273e3,\n",
    "        profile=timeseries[\"heat_load_profile\"]))\n",
    "\n"
   ]
  },
  {
   "cell_type": "markdown",
   "metadata": {},
   "source": [
    "### Excess\n",
    "\n",
    "This component is used to model the grid. \n",
    "\n",
    "$$ x^{flow}_{e}(t) \\leq \\inf \\qquad \\forall t \\in T, \\forall e \\in E$$\n",
    "\n",
    "The marinal costs are added with a negative sign, as all produced electricity represents revenues for the heating system."
   ]
  },
  {
   "cell_type": "code",
   "execution_count": null,
   "metadata": {},
   "outputs": [],
   "source": [
    "es.add(\n",
    "    fc.Excess(\n",
    "        label=\"to_grid\",\n",
    "        bus=elec_bus,\n",
    "        marginal_cost=-1 * timeseries[\"electricity_price\"].values))\n",
    "\n",
    "es.add(\n",
    "    fc.Shortage(\n",
    "        label=\"from_grid\",\n",
    "        tech=\"grid\",\n",
    "        carrier=\"electricity\",\n",
    "        bus=elec_bus,\n",
    "        marginal_cost=timeseries[\"electricity_price\"].values))"
   ]
  },
  {
   "cell_type": "markdown",
   "metadata": {},
   "source": [
    "### Commodity\n",
    "\n",
    "The commodity object will bound the flow from a source to a bus by a certain `amount` by the following equation:\n",
    "\n",
    "$$ \\sum_{t} x^{flow}(t) \\leq c^{amount} \\qquad for t \\in T$$\n",
    "\n"
   ]
  },
  {
   "cell_type": "code",
   "execution_count": null,
   "metadata": {},
   "outputs": [],
   "source": [
    "es.add(\n",
    "    fc.Commodity(\n",
    "        label=\"gas-commdity\",\n",
    "        bus=gas_bus,\n",
    "        amount=10e10,\n",
    "        carrier=\"gas\",\n",
    "        tech=\"commodity\",\n",
    "        marginal_cost=float(data.loc[(\"gas\", \"cost\", slice(None)), \"value\"]),\n",
    "    )\n",
    ")"
   ]
  },
  {
   "cell_type": "markdown",
   "metadata": {},
   "source": [
    "### Waste Heat Source"
   ]
  },
  {
   "cell_type": "code",
   "execution_count": null,
   "metadata": {},
   "outputs": [],
   "source": [
    "es.add(\n",
    "    fc.Dispatchable(\n",
    "        label=\"mustrun\",\n",
    "        bus=heat_bus,\n",
    "        capacity=float(data.loc[(\"mustrun\", \"qmax_pmax\", slice(None)), \"value\"]),\n",
    "        carrier=\"heat\",\n",
    "        tech=\"waste\",\n",
    "        marginal_cost=0,\n",
    "    )\n",
    ")"
   ]
  },
  {
   "cell_type": "markdown",
   "metadata": {},
   "source": [
    "### Extraction Turbine Unit\n",
    "\n",
    "The mathematical description is derived from the oemof base class\n",
    "[ExtractionTurbineCHP](https://oemof.readthedocs.io/en/\n",
    "stable/oemof_solph.html#extractionturbinechp-component>):\n",
    "\n",
    "$$x^{flow, carrier}(t) =\n",
    "    \\frac{x^{flow, electricity}(t) + x^{flow, heat}(t) \\\n",
    "    \\cdot c^{beta}(t)}{c^{condensing\\_efficiency}(t)}\n",
    "    \\qquad \\forall t \\in T$$\n",
    "\n",
    "$$\n",
    "    x^{flow, electricity}(t)  \\geq  x^{flow, thermal}(t) \\cdot\n",
    "    \\frac{c^{electrical\\_efficiency}(t)}{c^{thermal\\_efficiency}(t)}\n",
    "    \\qquad \\forall t \\in T$$\n",
    "\n",
    "where $c^{beta}$ is defined as:\n",
    "\n",
    "$$\n",
    "    c^{beta}(t) = \\frac{c^{condensing\\_efficiency}(t) -\n",
    "    c^{electrical\\_efficiency(t)}}{c^{thermal\\_efficiency}(t)}\n",
    "    \\qquad \\forall t \\in T$$\n",
    "\n",
    "**Objective expression** for operation includes marginal cost and/or\n",
    "carrier costs:\n",
    "\n",
    "$$\n",
    "        x^{opex} = \\sum_t (x^{flow, out}(t) \\cdot c^{marginal\\_cost}(t) +\n",
    "        x^{flow, carrier}(t) \\cdot c^{carrier\\_cost}(t))\n",
    "$$\n"
   ]
  },
  {
   "cell_type": "code",
   "execution_count": null,
   "metadata": {},
   "outputs": [],
   "source": [
    "es.add(\n",
    "    fc.ExtractionTurbine(\n",
    "        label=\"extraction-turbine\",\n",
    "        electricity_bus=elec_bus,\n",
    "        heat_bus=heat_bus,\n",
    "        fuel_bus=gas_bus,\n",
    "        carrier=\"gas\",\n",
    "        tech=\"ext\",\n",
    "        capacity=float(data.loc[\n",
    "            (\"ext\", \"pmax_qmin\", slice(None)), \"value\"]),\n",
    "        condensing_efficiency=float(data.loc[\n",
    "            (\"ext\", \"eta_el_pmax_qmin\", slice(None)), \"value\"]),\n",
    "        electric_efficiency=float(data.loc[\n",
    "            (\"ext\", \"eta_el_pmax_qmax\", slice(None)), \"value\"]),\n",
    "        thermal_efficiency=float(data.loc[\n",
    "            (\"ext\", \"eta_th_qmax_pmax\", slice(None)), \"value\"])\n",
    "    )\n",
    ")"
   ]
  },
  {
   "cell_type": "markdown",
   "metadata": {},
   "source": [
    "### Backpressure Units / Motoric CHP \n",
    "\n",
    "Backpressure turbine power plants are modelled with a constant relation\n",
    "between heat and electrical output (power to heat coefficient).\n",
    "\n",
    "$$ x^{flow, carrier}(t) =\n",
    "    \\frac{x^{flow, electricity}(t) + x^{flow, heat}(t)}\\\n",
    "    {c^{th\\_efficiency}(t) + c^{el\\_efficiency}(t)}\n",
    "    \\qquad \\forall t \\in T $$\n",
    "\n",
    "\n",
    "$$    \\frac{x^{flow, electricity}(t)}{x_{flow, thermal}(t)} =\n",
    "    \\frac{c^{el\\_efficiency}(t)}{c^{th\\_efficiency}(t)}\n",
    "    \\qquad \\forall t \\in T $$\n",
    "\n",
    "**Objective expression** for operation includes marginal cost and/or\n",
    "carrier costs:\n",
    "\n",
    "$$        x^{opex} = \\sum_t (x^{flow, out}(t) \\cdot c^{marginal\\_cost}(t) +\n",
    "          x^{flow, carrier}(t) \\cdot c^{carrier\\_cost}(t))$$"
   ]
  },
  {
   "cell_type": "code",
   "execution_count": null,
   "metadata": {},
   "outputs": [],
   "source": [
    "es.add(\n",
    "    fc.BackpressureTurbine(\n",
    "        label=\"motoric-chp\",\n",
    "        electricity_bus=elec_bus,\n",
    "        heat_bus=heat_bus,\n",
    "        fuel_bus=gas_bus,\n",
    "        carrier=\"gas\",\n",
    "        tech=\"bp\",\n",
    "        capacity=float(data.loc[\n",
    "            (\"bp\", \"pmax_qmin\", slice(None)), \"value\"]),\n",
    "        electric_efficiency=float(data.loc[\n",
    "            (\"bp\", \"eta_el_pmax_qmax\", slice(None)), \"value\"]),\n",
    "        thermal_efficiency=float(data.loc[\n",
    "            (\"bp\", \"eta_th_qmax_pmax\", slice(None)), \"value\"])\n",
    "    )\n",
    ")"
   ]
  },
  {
   "cell_type": "markdown",
   "metadata": {},
   "source": [
    "### Storage\n",
    "\n",
    "The mathematical representation of the storage for all storages $s \\in S$ will include the flow into the storage, out of the storage and a storage level. The default efficiency for input/output is 1. Note that this is is included during charge and discharge. If you want to set the round trip efficiency you need to do for example: $\\eta = \\sqrt{\\eta^{roundtrip}}$\n",
    "\n",
    "Intertemporal energy balance of the storage:\n",
    "\n",
    "$$ x^{level}_{s}(t) = \\eta^{loss} x^{level}_{s}(t) + \\eta x^{flow}_{s, in} - \\eta x^{flow}_{s, out}(t) \\qquad \\forall t \\in T,  \\forall s \\in S$$ \n",
    "\n",
    "Bounds of the storage level variable $x^{level}_s(t)$:\n",
    "\n",
    "$$ x^{level}_s(t) \\leq c_s^{max,level} \\qquad \\forall t \\in T,  \\forall s \\in S$$\n",
    "\n",
    "\n",
    "$$ x^{level}_s(1) = x_s^{level}(t_{e}) = 0.5 \\cdot c_s^{max,level} \\qquad \\forall t \\in T,  \\forall s \\in S$$ \n",
    "\n",
    "Of course, in addition the inflow/outflow of the storage also needs to be within the limit of the minimum and maximum power. \n",
    "\n",
    "$$ -c_s^{capacity} \\leq x^{flow}_s(t) \\leq c_s^{capacity} \\qquad \\forall t \\in T, \\forall s \\in S$$ \n",
    "\n",
    "\n",
    "\n"
   ]
  },
  {
   "cell_type": "code",
   "execution_count": null,
   "metadata": {},
   "outputs": [],
   "source": [
    "if True:\n",
    "    storage = fc.Storage(\n",
    "            label=\"heat-storage\",\n",
    "            bus=heat_bus,\n",
    "            carrier=\"water\",\n",
    "            tech=\"storage\",\n",
    "            capacity=float(data.loc[(\"storage\", \"qmax_in\", slice(None)), \"value\"]),\n",
    "            storage_capacity=float(data.loc[(\"storage\", \"umax\", slice(None)), \"value\"]),\n",
    "            balanced=True, # oemof.solph argument\n",
    "            initial_storage_level=0.5, # oemof.solph argument\n",
    "            max_storage_level=1, # oemof.solph argument\n",
    "    )\n",
    "\n",
    "    # the output of the storage needs to be connected to the low temperature heat bus \n",
    "    output_edge = storage.outputs[heat_bus]\n",
    "    storage.outputs.pop(heat_bus)\n",
    "    storage.outputs.update({heat_bus_low: output_edge})\n",
    "\n",
    "    es.add(storage)"
   ]
  },
  {
   "cell_type": "code",
   "execution_count": null,
   "metadata": {},
   "outputs": [],
   "source": [
    "# not used \n",
    "if False:\n",
    "    es.add(\n",
    "        GenericStorage(\n",
    "            label=\"heat-storage\",\n",
    "            inputs={\n",
    "                heat_bus: Flow(\n",
    "                    nominal_value=float(\n",
    "                        data.loc[(\"storage\", \"qmax_in\", slice(None)), \"value\"]\n",
    "                    )\n",
    "                )\n",
    "            },\n",
    "            outputs={\n",
    "                heat_bus_low: Flow(\n",
    "                    nominal_value=float(\n",
    "                        data.loc[(\"storage\", \"qmax_in\", slice(None)), \"value\"]\n",
    "                    )\n",
    "                )\n",
    "            },\n",
    "            loss_rate=0,\n",
    "            nominal_storage_capacity=float(\n",
    "                data.loc[(\"storage\", \"umax\", slice(None)), \"value\"]\n",
    "            ),\n",
    "            inflow_conversion_factor=float(\n",
    "                data.loc[(\"storage\", \"eta_in\", slice(None)), \"value\"]\n",
    "            ),\n",
    "            outflow_conversion_factor=float(\n",
    "                data.loc[(\"storage\", \"eta_in\", slice(None)), \"value\"]\n",
    "            ),\n",
    "        )\n",
    "    )\n"
   ]
  },
  {
   "cell_type": "markdown",
   "metadata": {},
   "source": [
    "#### Heat Pump\n",
    "\n",
    "The storage is not directly connected to the heat bus but the heat will be lifted to higher temperature levels with a heat pump. \n",
    "\n",
    "$$ x_{elec\\_bus, hp}^{flow} = \\frac{1}{c^{COP}} \\cdot x_{hp, heat\\_bus}^{flow}$$\n",
    "\n",
    "$$ x_{storage, heat\\_bus\\_low}^{flow} = x_{hp, heat\\_bus}^{flow} \\frac{c^{COP} -1}{c^{COP}}$$"
   ]
  },
  {
   "cell_type": "code",
   "execution_count": null,
   "metadata": {},
   "outputs": [],
   "source": [
    "cop = float(data.loc[(\"storage\", \"cop\", slice(None)), \"value\"])\n",
    "# not used \n",
    "if False:\n",
    "    es.add(\n",
    "        Transformer(\n",
    "            label=\"hp-storage\",\n",
    "            inputs={elec_bus: Flow(), heat_bus_low: Flow()},\n",
    "            outputs={heat_bus: Flow()},\n",
    "            conversion_factors={elec_bus: 1 / cop, heat_bus_low: (cop - 1) / cop},\n",
    "        )\n",
    "    )\n",
    "if True:\n",
    "    es.add(\n",
    "            fc.HeatPump(\n",
    "            label=\"hp-storage\",\n",
    "            carrier=\"electricity\",\n",
    "            capacity=float(data.loc[(\"storage\", \"qmax_out\", slice(None)), \"value\"]),\n",
    "            tech=\"hp\",\n",
    "            cop=float(data.loc[(\"storage\", \"cop\", slice(None)), \"value\"]), \n",
    "            electricity_bus=elec_bus,\n",
    "            high_temperature_bus=heat_bus, \n",
    "            low_temperature_bus=heat_bus_low\n",
    "        )\n",
    "    )"
   ]
  },
  {
   "cell_type": "markdown",
   "metadata": {},
   "source": [
    "### Heat pump and electro boiler \n",
    "\n",
    "To model the heat pump as well as the boiler, a conversion unit is used. This object will take from a bus and feed into another and is represented by the following mathematical equation: \n",
    "\n",
    "$$x^{flow}_{c, to}(t) = c^{efficiencty}_{c} \\cdot x^{flow}_{c, from}(t), \\qquad \\forall c  \\in C, \\forall t \\in T$$ \n",
    "\n",
    "The `capacity` refers to the output of the conversion unit. Thus, to the thermal capacity of the heat pump / boiler. Therefore the flow from the heat pump to the heating system is bounded by the thermal capacity of the repective unit:\n",
    "\n",
    "$$x^{flow}_{c, to}(t) \\leq c^{capacity}_{c, to}(t) \\qquad \\forall c  \\in C, \\forall t \\in T$$\n",
    "\n"
   ]
  },
  {
   "cell_type": "code",
   "execution_count": null,
   "metadata": {},
   "outputs": [],
   "source": [
    "es.add(\n",
    "    fc.Conversion(\n",
    "        label=\"heat-pump\",\n",
    "        from_bus=elec_bus,\n",
    "        to_bus=heat_bus,\n",
    "        carrier=\"electricity\",\n",
    "        tech=\"hp\",\n",
    "        capacity=float(data.loc[\n",
    "            (\"heatpump\", \"q_max\", slice(None)), \"value\"]),\n",
    "        efficiency=(float(data.loc[\n",
    "            (\"heatpump\", \"cop_max\", slice(None)), \"value\"]) + \n",
    "                    float(data.loc[\n",
    "            (\"heatpump\", \"cop_min\", slice(None)), \"value\"])) / 2,\n",
    "    )\n",
    ")\n",
    "\n",
    "es.add(\n",
    "    fc.Conversion(\n",
    "        label=\"electro-boiler\",\n",
    "        from_bus=elec_bus,\n",
    "        to_bus=heat_bus,\n",
    "        carrier=\"electricity\",\n",
    "        tech=\"eboiler\",\n",
    "        capacity=float(data.loc[\n",
    "            (\"eboiler\", \"q_max\", slice(None)), \"value\"]),\n",
    "        efficiency=float(data.loc[\n",
    "            (\"eboiler\", \"eta_th_max\", slice(None)), \"value\"]),\n",
    "    )\n",
    ")"
   ]
  },
  {
   "cell_type": "markdown",
   "metadata": {},
   "source": [
    "### Objective Function \n",
    "\n",
    "The objective function is created from all instantiated objects. It will use all operating costs (i.e. `marginal_cost` argument) and if set all investment costs (i.e. `capacity_cost` argument)\n",
    "\n",
    "$$ \\text{min:} \\sum_g \\sum_t \\overbrace{c^{marginal\\_cost}_g \\cdot x^{flow}_{g}(t)}^{\\text{operating cost}} \\\\ \n",
    "\\sum_g \\sum_t \\overbrace{c^{capacity\\_cost}_g \\cdot x^{capacity}_{g}(t)}^{\\text{investment cost}} $$\n",
    "\n",
    "**Note**: In this model the selling of electricity to the market is represented through negativ marginal cost of the excess component."
   ]
  },
  {
   "cell_type": "code",
   "execution_count": null,
   "metadata": {},
   "outputs": [],
   "source": [
    "m = Model(es)\n",
    "  \n",
    "#m.write(os.path.join(scenario_path, 'model.lp'), io_options={'symbolic_solver_labels': True})"
   ]
  },
  {
   "cell_type": "code",
   "execution_count": null,
   "metadata": {},
   "outputs": [],
   "source": [
    "m.solve(solver=\"cbc\")\n",
    "\n",
    "m.results = m.results()"
   ]
  },
  {
   "cell_type": "code",
   "execution_count": null,
   "metadata": {},
   "outputs": [],
   "source": [
    "from oemof.outputlib import views\n",
    "df = pd.DataFrame()\n",
    "for b in [heat_bus, heat_bus_low, elec_bus, gas_bus]:\n",
    "    df = pd.concat([\n",
    "        df, \n",
    "        views.node(m.results, b, multiindex=True).get(\"sequences\")\n",
    "    ], axis=1)\n",
    "df.round(7).to_csv(os.path.join(scenario_path, 'endogenous-variables.csv'))"
   ]
  },
  {
   "cell_type": "code",
   "execution_count": null,
   "metadata": {},
   "outputs": [],
   "source": [
    "r = (\n",
    "    df[es.groups['hp-storage'], heat_bus, 'flow'] - \n",
    "    df[heat_bus, es.groups['heat-storage'], 'flow']).reset_index()\n",
    "r.columns = ['timeindex', 'storage']\n",
    "s = views.node(m.results, es.groups['heat-storage'], multiindex=True)['sequences']"
   ]
  },
  {
   "cell_type": "code",
   "execution_count": null,
   "metadata": {},
   "outputs": [],
   "source": [
    "s.plot()"
   ]
  },
  {
   "cell_type": "code",
   "execution_count": null,
   "metadata": {},
   "outputs": [],
   "source": [
    "s.to_csv(os.path.join(scenario_path, 'storage-variables.csv'))"
   ]
  },
  {
   "cell_type": "code",
   "execution_count": null,
   "metadata": {},
   "outputs": [],
   "source": [
    "import chart_studio.plotly as py\n",
    "import plotly.graph_objs as go\n",
    "import plotly.offline as py_offline\n",
    "#fig = go.Figure()\n",
    "#fig.add_trace())\n",
    "#fig.show()\n",
    "data = [\n",
    "    go.Scatter(\n",
    "        x=r.timeindex,\n",
    "        y=r.storage\n",
    "    )\n",
    "]\n",
    "\n",
    "py_offline.plot(data, filename=os.path.join(scenario_path, 'basic-line'))\n"
   ]
  }
 ],
 "metadata": {
  "@webio": {
   "lastCommId": null,
   "lastKernelId": null
  },
  "kernelspec": {
   "display_name": "angus-env",
   "language": "python",
   "name": "angus-env"
  },
  "language_info": {
   "codemirror_mode": {
    "name": "ipython",
    "version": 3
   },
   "file_extension": ".py",
   "mimetype": "text/x-python",
   "name": "python",
   "nbconvert_exporter": "python",
   "pygments_lexer": "ipython3",
   "version": "3.6.7"
  }
 },
 "nbformat": 4,
 "nbformat_minor": 2
}
