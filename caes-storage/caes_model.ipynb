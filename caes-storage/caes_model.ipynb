{
 "cells": [
  {
   "cell_type": "markdown",
   "metadata": {},
   "source": [
    "# CAES Dispatch Model \n",
    "\n",
    "Authors: [Simon Hilpert](simon.hilpert@uni-flensburg.de) and Clemens Wingenbach <br>\n",
    "Institute: Europa Universität Flensburg (EUF) <br>\n",
    "Date: 05.11.2019 <br>\n",
    "\n",
    "\n"
   ]
  },
  {
   "cell_type": "markdown",
   "metadata": {},
   "source": [
    "## Mathmatical Description"
   ]
  },
  {
   "cell_type": "markdown",
   "metadata": {},
   "source": [
    "Linear formulation for generic storage. The endogenous model variables are indicated by bold letters. Note that the index for the set of storages $s \\in S$ is omitted. \n",
    "\n",
    "**Parmeter**\n",
    "\n",
    "* Efficiency charge: $\\eta_{in}$ \n",
    "* Efficiency discharge $\\eta_{out}$\n",
    "* Efficiency when not operating $\\eta_{stand}$\n",
    "* Lower bounds of variables $\\underline{p}_{out}, \\underline{p}_{in}, \\underline{l}$\n",
    "* Upper bounds of variables $\\overline{p}_{out}, \\overline{p}_{in}, \\overline{l}$\n",
    "\n",
    "**Variables**\n",
    "\n",
    "\n",
    "Storage Discharge:<br>\n",
    "$\\underline{p}_{out}(t) \\leq \\textbf{p}_{out}(t) \\leq \\overline{p}_{out}(t) \\qquad \\forall t \\in T$\n",
    "\n",
    "Storage Charge:<br>\n",
    "$\\underline{p}_{in}(t) \\leq \\textbf{p}_{in}(t) \\leq  \\overline{p}_{in}(t) \\qquad \\forall t \\in T$\n",
    "\n",
    "Storage Level:<br>\n",
    "$\\underline{l}(t) \\leq \\textbf{l}(t) \\leq \\overline{l}(t) \\qquad \\forall t \\in T$\n",
    "\n",
    "**Constraints**\n",
    "\n",
    "Storage balance:<br>\n",
    "$\\textbf{l}(t) =  \\textbf{l}(t-1) \\cdot \\eta_{stand}  - 1 / \\eta_{out}  \\cdot \\textbf{p}_{out}(t) + \\eta_{in} \\cdot \\textbf{p}_{in}(t) \\qquad \\forall t \\in T \\setminus \\{0\\}\\\\\n",
    " \\textbf{l}(0) = 0.5 \\cdot \\overline{l}(t)$\n",
    " \n",
    "**Objective function** \n",
    "\n",
    "The objective function is maximising the profit of operation:\n",
    "\n",
    "$$\n",
    "max \\sum_t \\textbf{p}_{out}(t)  \\cdot price(t) - \\textbf{p}_{în}(t)  \\cdot price(t)\n",
    "$$"
   ]
  },
  {
   "cell_type": "markdown",
   "metadata": {},
   "source": [
    "## Model Implementation"
   ]
  },
  {
   "cell_type": "code",
   "execution_count": null,
   "metadata": {},
   "outputs": [],
   "source": [
    "using CSV\n",
    "using Clp, JuMP\n",
    "using Plots\n",
    "using DataFrames"
   ]
  },
  {
   "cell_type": "code",
   "execution_count": null,
   "metadata": {},
   "outputs": [],
   "source": [
    "df = CSV.read(\"data/caes-system/caes-system.csv\", header=true, copycols=true);"
   ]
  },
  {
   "cell_type": "code",
   "execution_count": null,
   "metadata": {},
   "outputs": [],
   "source": [
    "prices = CSV.read(\"data/shadow_prices.csv\");"
   ]
  },
  {
   "cell_type": "code",
   "execution_count": null,
   "metadata": {},
   "outputs": [],
   "source": [
    "plot(sort(prices[:DE_electricity] ,rev=true), color=\"black\", linewidth=2.0, linestyle=:solid, \n",
    "    xlabel = \"Hours of the year\", ylabel = \"Shadow Prices in Euro / MWh\", label=\"Germany 2012 Spot\")"
   ]
  },
  {
   "cell_type": "markdown",
   "metadata": {},
   "source": [
    "Storage parameter for specific CAES Model:\n",
    "\n",
    " * $\\eta_{in} = \\eta_{out} = 0.7554$\n",
    " * $\\overline{l} = 36.6\\,\\text{MWh}$\n",
    " * $\\overline{p}_{out} = 120.75\\,\\text{MW}$\n",
    " * $\\overline{p}_{in} = 241.5\\,\\text{MW}$\n",
    " \n",
    " Not used for LP representations, requires MILP:\n",
    " * $\\underline{p}_{out} = 28.75\\,\\text{MW}$ \n",
    " * $\\underline{p}_{in} =  57.5\\,\\text{MW}$ "
   ]
  },
  {
   "cell_type": "code",
   "execution_count": null,
   "metadata": {},
   "outputs": [],
   "source": [
    "storages =  Dict(\n",
    "                \"storage1\" => Dict(\n",
    "                                \"in\" => Dict(\n",
    "                                            \"lb\" => 0,\n",
    "                                            \"ub\" => 120.75),\n",
    "                                \"out\" => Dict(\n",
    "                                            \"lb\" => 0,\n",
    "                                            \"ub\" => 241.5),\n",
    "                                \"level\" => Dict(\n",
    "                                            \"lb\" => 0,\n",
    "                                            \"ub\" => 36600), # MWh\n",
    "                                \"eta_stand\" => 1,\n",
    "                                \"eta_in\" => 0.755, \n",
    "                                \"eta_out\" => 0.755,\n",
    "                                \"init_level\" => 0.5\n",
    "    )\n",
    ");"
   ]
  },
  {
   "cell_type": "code",
   "execution_count": null,
   "metadata": {},
   "outputs": [],
   "source": [
    "m = Model(with_optimizer(Clp.Optimizer))\n",
    "\n",
    "T = 8760;\n"
   ]
  },
  {
   "cell_type": "code",
   "execution_count": null,
   "metadata": {},
   "outputs": [],
   "source": [
    "function storage_formulation(m, T, storages)\n",
    "\n",
    "    p_out = @variable(m, \n",
    "                storages[s][\"in\"][\"lb\"] <= p_out[t=1:T, s=keys(storages)] <= storages[s][\"in\"][\"ub\"])\n",
    "    \n",
    "    p_in = @variable(m, \n",
    "                storages[s][\"out\"][\"lb\"] <= p_in[t=1:T, s=keys(storages)] <= storages[s][\"out\"][\"ub\"])\n",
    "\n",
    "    level = @variable(m, storages[s][\"level\"][\"lb\"] <= level[t=1:T, s=keys(storages)] <= storages[s][\"level\"][\"ub\"])\n",
    "\n",
    "    @constraint(m, [s=keys(storages)], level[1,s] == storages[s][\"init_level\"] * storages[s][\"level\"][\"ub\"])\n",
    "\n",
    "    @constraint(m, [t=2:T,s=keys(storages)],\n",
    "                level[t,s] == level[t-1,s] * storages[s][\"eta_stand\"] - 1/storages[s][\"eta_out\"] * p_out[t,s]  + storages[s][\"eta_in\"] * p_in[t,s])\n",
    "    \n",
    "    net_storage_sum = @expression(m, expr[t=1:T], \n",
    "                                  sum(p_in[t,s] for s in keys(storages)))\n",
    "    \n",
    "    return p_out, p_in, level, net_storage_sum\n",
    "end\n",
    "                    \n",
    "p_out, p_in, level, net_storage_sum = storage_formulation(m, T, storages);\n",
    "\n",
    "@objective(m, Max,\n",
    "    sum(p_out[t, s] * prices[:DE_electricity][t] for t=1:T for s in keys(storages)) - \n",
    "    sum(p_in[t, s] * prices[:DE_electricity][t] for t=1:T for s in keys(storages))\n",
    ");"
   ]
  },
  {
   "cell_type": "code",
   "execution_count": null,
   "metadata": {},
   "outputs": [],
   "source": [
    "optimize!(m)"
   ]
  },
  {
   "cell_type": "code",
   "execution_count": null,
   "metadata": {},
   "outputs": [],
   "source": [
    "results = DataFrame(\n",
    "          timeindex=prices[:timeindex],\n",
    "          prices=prices[:DE_electricity],\n",
    "          level=JuMP.value.(m[:level][:,\"storage1\"].data),\n",
    "          p_in=JuMP.value.(m[:p_in][:,\"storage1\"].data),\n",
    "          p_out=JuMP.value.(m[:p_out][:,\"storage1\"].data))\n",
    "\n",
    "CSV.write(\"results.csv\",  delim=';', results);"
   ]
  }
 ],
 "metadata": {
  "@webio": {
   "lastCommId": null,
   "lastKernelId": null
  },
  "kernelspec": {
   "display_name": "Julia 1.1.1",
   "language": "julia",
   "name": "julia-1.1"
  },
  "language_info": {
   "file_extension": ".jl",
   "mimetype": "application/julia",
   "name": "julia",
   "version": "1.1.1"
  }
 },
 "nbformat": 4,
 "nbformat_minor": 2
}
